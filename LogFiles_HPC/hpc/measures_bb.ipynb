{
 "metadata": {
  "name": "",
  "signature": "sha256:0fe47cafe1f9f5e626ee4478ff64be4c0d3116404fda124e3b5844327a4e8673"
 },
 "nbformat": 3,
 "nbformat_minor": 0,
 "worksheets": [
  {
   "cells": [
    {
     "cell_type": "code",
     "collapsed": false,
     "input": [
      "import re, json, pymongo\n",
      "import gzip, sys, os, shutil, pickle, collections\n",
      "from operator import itemgetter, attrgetter\n",
      "from collections import Counter\n",
      "#import requests, json, sys, time, re, BeautifulSoup, time\n",
      "import matplotlib.pyplot as plt\n",
      "import numpy as np\n",
      "\n",
      "def parse(text, name):\n",
      "  size = 0\n",
      "  data = {}\n",
      "  data['name'] = decode(name)\n",
      "  data['commits'] = []\n",
      "  if text == '':\n",
      "    return (0, {}, {})\n",
      "  last_revision = ''\n",
      "  authors = {}\n",
      "  delta = 0\n",
      "  files = {}\n",
      "  text = text .replace('\\r', '')\n",
      "  revs = {}\n",
      "  cmtSize = {'2009':0, '2010':0, '2011':0,'2012':0, '2013':0, '2014':0 }\n",
      "  uniqCmt  = {'2009':[] , '2010':[] , '2011':[] ,'2012':[] , '2013':[], '2014':[] }\n",
      "  uniqCmtSize = {'2009':0, '2010':0, '2011':0,'2012':0, '2013':0, '2014':0 }\n",
      "  authors  = {'2009':[] , '2010':[] , '2011':[] ,'2012':[] , '2013':[], '2014':[] }\n",
      "  deltaYr  = {'2009':0, '2010':0, '2011':0,'2012':0, '2013':0, '2014':0 }\n",
      "  totalCmt = {'2009':[] , '2010':[] , '2011':[] ,'2012':[] , '2013':[], '2014':[] }\n",
      "  preyear = 0\n",
      "\n",
      " # Determine if it uses Git\n",
      "  if text.find('ENDOFCOMMENT') > 0 and text[:text.find(';')].find(':') > 0:\n",
      "    # It's Mercurial\n",
      "    line = text.strip().split('ENDOFCOMMENT\\n') #get all the commits\n",
      "\n",
      "    # get the info of each commit\n",
      "    for cmt in line:\n",
      "      splits = cmt.split(';')\n",
      "      # There may be semicolons in the comments too\n",
      "      props = splits[:7]\n",
      "      year = props[4][:4]                 # get year as every list will be year driven\n",
      "\n",
      "      revision = props[0]                                  #revision number\n",
      "      valrev   = totalCmt[year]\n",
      "\n",
      "      if revision not in valrev:                           #commit each year\n",
      "         totalCmt[year].append(revision)\n",
      "\n",
      "      author  = decode(props[5])                           #name of author\n",
      "      valauth = authors[year]\n",
      "      if author not in valauth:\n",
      "         #authNum[year] += 1 \n",
      "         authors[year].append(author)\n",
      "\n",
      "      comment        = ';'.join(splits[7:])\n",
      "      cmtSize[year] += len(comment)                        #comment Size\n",
      "      valcmt  = uniqCmt[year]\n",
      "      if comment not in valcmt:\n",
      "         uniqCmt[year].append(comment)\n",
      "         uniqCmtSize[year] += len(comment)                 #unique cmt size\n",
      "         #uniqCmtCount[year] += 1                           #unique cmt \n",
      "\n",
      "      deltaYr[year] += 1\n",
      "\n",
      "  return totalCmt, uniqCmt, authors, cmtSize, uniqCmtSize, deltaYr\n",
      "                "
     ],
     "language": "python",
     "metadata": {},
     "outputs": [],
     "prompt_number": 99
    },
    {
     "cell_type": "code",
     "collapsed": false,
     "input": [
      "\n",
      "  # plot the commit quality (Qc), commit/author and size/commit over time\n",
      "%matplotlib inline\n",
      "def plot_trend(year_range, Qc, description):\n",
      "  \n",
      "  # get ready to plot\n",
      "  ind = np.arange(len(year_range))\n",
      "  width = 0.8\n",
      "\n",
      "\n",
      "  # plot!\n",
      "  plot = plt.bar(ind, Qc, width, color='b')\n",
      "  plt.ylabel(description)\n",
      "  plt.title(description + ' over time')\n",
      "  plt.xticks(ind + width/2., year_range)\n",
      "  plt.show()\n",
      "    "
     ],
     "language": "python",
     "metadata": {},
     "outputs": [],
     "prompt_number": 115
    },
    {
     "cell_type": "code",
     "collapsed": false,
     "input": [
      "def decode(text):\n",
      "    return str(text).encode('string_escape')"
     ],
     "language": "python",
     "metadata": {},
     "outputs": [],
     "prompt_number": 116
    },
    {
     "cell_type": "code",
     "collapsed": false,
     "input": [
      "if __name__ == '__main__':\n",
      "\n",
      "  # Get list of files\n",
      "  files = open('list_bb', 'r').readlines()\n",
      "  counter = 0\n",
      "  for f in files:\n",
      "    f = f.strip()\n",
      "    name = f\n",
      "    contents = open(f).read()\n",
      "\n",
      "    totalCmt, uniqCmt, authors, cmtSize, uniqCmtSize, deltaYr  = parse(contents, name)\n",
      "    "
     ],
     "language": "python",
     "metadata": {},
     "outputs": [],
     "prompt_number": 117
    },
    {
     "cell_type": "code",
     "collapsed": false,
     "input": [
      "    for key in sorted(uniqCmt.keys()):\n",
      "        if len(totalCmt[key]) == 0:\n",
      "           totalCmt[key].append('DivideByZeroCheck')\n",
      "        if len(uniqCmt[key]) == 0:\n",
      "           uniqCmt[key].append('DivideByZeroCheck')\n",
      "        if len(authors[key]) == 0:\n",
      "           authors[key].append('DivideByZeroCheck')\n",
      "        #if len(cmtSize[key]) == 0:\n",
      "        #   cmtSize[key].append('DivideByZeroCheck')\n",
      "        #if len(delta[key]) == 0:\n",
      "         #  delta[key].append('DivideByZeroCheck')\n",
      "            \n",
      "    print \"\\n Year   #nTC            #nUC       #Au          cmtSize    uniqCmtSize      delta\"\n",
      "    \n",
      "    for key in sorted(uniqCmt.keys()):\n",
      "        print key, \": \", len(totalCmt[key]), \"          \", len(uniqCmt[key]), \"         \", len(authors[key]), \"         \", cmtSize[key], \"      \", uniqCmtSize[key], \"          \", deltaYr[key]\n",
      "#    print \"totalCmt: \", collections.OrderedDict(sorted(totalCmt.items()))\n",
      "#    print \"uniqCmtCount: \", collections.OrderedDict(sorted(uniqCmtCount.items()))\n",
      "#    print \"authNum: \", collections.OrderedDict(sorted(authNum.items()))\n",
      "#    print \"uniqCmtSize: \", collections.OrderedDict(sorted(uniqCmtSize.items()))\n",
      "#    print \"cmtSize: \", collections.OrderedDict(sorted(cmtSize.items()))\n",
      "#    print \"deltaYr: \", collections.OrderedDict(sorted(deltaYr.items()))"
     ],
     "language": "python",
     "metadata": {},
     "outputs": [
      {
       "output_type": "stream",
       "stream": "stdout",
       "text": [
        "\n",
        " Year   #nTC            #nUC       #Au          cmtSize    uniqCmtSize      delta\n",
        "2009 :  290            290           7           74941        23468            670\n",
        "2010 :  2020            1943           11           557328        150529            5875\n",
        "2011 :  1114            1084           8           257376        69493            2656\n",
        "2012 :  1969            1834           20           523731        113536            6251\n",
        "2013 :  1688            1547           12           564166        108858            6274\n",
        "2014 :  749            694           10           227980        48666            4237\n"
       ]
      }
     ],
     "prompt_number": 118
    },
    {
     "cell_type": "code",
     "collapsed": false,
     "input": [
      "    #Qc - quality of commits, cmt_Au - commit per author, size_cmt - size per commit\n",
      "    year_range = ['2009', '2010', '2011', '2012', '2013', '2014'];\n",
      "    Qc = []\n",
      "    cmt_Au = []\n",
      "    size_cmt = []\n",
      "    delta_cmt = []\n",
      "    usize_ucmt = []\n",
      "    print \"\\n Year   #Qc      uCmt/Au     size/Cmt    delta/tCmt \" \n",
      "    for i in range(len(year_range)):\n",
      "      key = year_range[i]\n",
      "      Qc.append(float(len(uniqCmt[key]))/float(len(totalCmt[key])))\n",
      "      cmt_Au.append(float(len(uniqCmt[key]))/float(len(authors[key])))\n",
      "      size_cmt.append(cmtSize[key]/float(len(totalCmt[key])))\n",
      "      usize_ucmt.append(uniqCmtSize[key]/float(len(uniqCmt[key])))\n",
      "      delta_cmt.append(deltaYr[key]/float(len(totalCmt[key])))\n",
      "      \n",
      "      print  key, \"  \", (\"%.2f\" % Qc[i]),\n",
      "      print \"    \", (\"%.2f\" % cmt_Au[i]),\n",
      "      print \"    \", (\"%.2f\" % size_cmt[i]),\n",
      "      print \"     \", (\"%.2f\" % delta_cmt[i])\n",
      "   "
     ],
     "language": "python",
     "metadata": {},
     "outputs": [
      {
       "output_type": "stream",
       "stream": "stdout",
       "text": [
        "\n",
        " Year   #Qc      uCmt/Au     size/Cmt    delta/tCmt \n",
        "2009    1.00      41.43      258.42       2.31\n",
        "2010    0.96      176.64      275.90       2.91\n",
        "2011    0.97      135.50      231.04       2.38\n",
        "2012    0.93      91.70      265.99       3.17\n",
        "2013    0.92      128.92      334.22       3.72\n",
        "2014    0.93      69.40      304.38       5.66\n"
       ]
      }
     ],
     "prompt_number": 119
    },
    {
     "cell_type": "code",
     "collapsed": false,
     "input": [],
     "language": "python",
     "metadata": {},
     "outputs": [],
     "prompt_number": 119
    },
    {
     "cell_type": "code",
     "collapsed": false,
     "input": [
      "    plot_trend(year_range, Qc, \"Qc\")   "
     ],
     "language": "python",
     "metadata": {},
     "outputs": [
      {
       "metadata": {},
       "output_type": "display_data",
       "png": "[encoded data removed]",
       "text": [
        "<matplotlib.figure.Figure at 0x7fa4d58f02d0>"
       ]
      }
     ],
     "prompt_number": 120
    },
    {
     "cell_type": "code",
     "collapsed": false,
     "input": [
      "    plot_trend(year_range, cmt_Au, \"Cmt/Au\")   "
     ],
     "language": "python",
     "metadata": {},
     "outputs": [
      {
       "metadata": {},
       "output_type": "display_data",
       "png": "[encoded data removed]",
       "text": [
        "<matplotlib.figure.Figure at 0x7fa4d55f7ed0>"
       ]
      }
     ],
     "prompt_number": 121
    },
    {
     "cell_type": "code",
     "collapsed": false,
     "input": [
      "    plot_trend(year_range, size_cmt, \"size/Cmt\")   "
     ],
     "language": "python",
     "metadata": {},
     "outputs": [
      {
       "metadata": {},
       "output_type": "display_data",
       "png": "[encoded data removed]",
       "text": [
        "<matplotlib.figure.Figure at 0x7fa4ed6cbad0>"
       ]
      }
     ],
     "prompt_number": 122
    },
    {
     "cell_type": "code",
     "collapsed": false,
     "input": [
      "    plot_trend(year_range, delta_cmt, \"delta/Cmt\") "
     ],
     "language": "python",
     "metadata": {},
     "outputs": [
      {
       "metadata": {},
       "output_type": "display_data",
       "png": "[encoded data removed]",
       "text": [
        "<matplotlib.figure.Figure at 0x7fa4ed88ac50>"
       ]
      }
     ],
     "prompt_number": 123
    },
    {
     "cell_type": "code",
     "collapsed": false,
     "input": [],
     "language": "python",
     "metadata": {},
     "outputs": []
    }
   ],
   "metadata": {}
  }
 ]
}