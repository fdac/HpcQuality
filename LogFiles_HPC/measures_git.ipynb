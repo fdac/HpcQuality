{
 "metadata": {
  "name": "",
  "signature": "sha256:ce144854eb5181d77e155c913b2fefb549a6341f3b26708c53621f817f4d2b49"
 },
 "nbformat": 3,
 "nbformat_minor": 0,
 "worksheets": [
  {
   "cells": [
    {
     "cell_type": "code",
     "collapsed": false,
     "input": [
      "import re, json, pymongo\n",
      "import gzip, sys, os, shutil, pickle, collections\n",
      "from operator import itemgetter, attrgetter\n",
      "from collections import Counter\n",
      "import matplotlib.pyplot as plt\n",
      "import numpy as np\n",
      "\n",
      "def parse(text, name):\n",
      "  size = 0\n",
      "  data = {}\n",
      "  data['name'] = decode(name)\n",
      "  data['commits'] = []\n",
      "  if text == '':\n",
      "    return (0, {}, {})\n",
      "  last_revision = ''\n",
      "  authors = {}\n",
      "  delta = 0\n",
      "  files = {}\n",
      "  text = text .replace('\\r', '')\n",
      "\n",
      "  cmtSize = {'2003':0, '2004':0, '2005':0, '2006':0, '2007':0, '2008':0, '2009':0, '2010':0, '2011':0,'2012':0, '2013':0, '2014':0 }\n",
      "  uniqCmt  = {'2003':[], '2004':[], '2005':[], '2006':[], '2007':[], '2008':[], '2009':[] , '2010':[] , '2011':[] ,'2012':[] , '2013':[], '2014':[] }\n",
      "  uniqCmtSize = {'2003':0, '2004':0, '2005':0, '2006':0, '2007':0, '2008':0, '2009':0, '2010':0, '2011':0,'2012':0, '2013':0, '2014':0 }\n",
      "  authors  = {'2003':[], '2004':[], '2005':[], '2006':[], '2007':[], '2008':[], '2009':[] , '2010':[] , '2011':[] ,'2012':[] , '2013':[], '2014':[] }\n",
      "  deltaYr  = {'2003':0, '2004':0, '2005':0, '2006':0, '2007':0, '2008':0, '2009':0, '2010':0, '2011':0,'2012':0, '2013':0, '2014':0 }\n",
      "  totalCmt = {'2003':[], '2004':[], '2005':[], '2006':[], '2007':[], '2008':[], '2009':[] , '2010':[] , '2011':[] ,'2012':[] , '2013':[], '2014':[] }\n",
      "# It's git\n",
      "\n",
      "  line = text.strip().split('\\n')                        #get all the commits\n",
      "\n",
      "  # get the info of each commit\n",
      "  for cmt in line:\n",
      "    splits = cmt.split(';')\n",
      "    # There may be semicolons in the comments too\n",
      "    props = splits[:10]\n",
      "\n",
      "    year = int(props[6][:])            # get year as every list will be year driven\n",
      "    year = int(year/(3600 * 24 * 365.25) + 1970)\n",
      "    year = str(year)\n",
      "\n",
      "    revision = props[0]                                  #revision number\n",
      "    valrev   = totalCmt[year]\n",
      "\n",
      "    if revision not in valrev:                           #commit each year\n",
      "       totalCmt[year].append(revision)\n",
      "\n",
      "    author  = props[4]                                   #name of author\n",
      "    valauth = authors[year]\n",
      "    if author not in valauth:\n",
      "       #authNum[year] += 1 \n",
      "       authors[year].append(author)\n",
      "\n",
      "    comment        = ';'.join(splits[9:])\n",
      "    cmtSize[year] += len(comment)                        #comment Size\n",
      "    valcmt  = uniqCmt[year]\n",
      "    if comment not in valcmt:\n",
      "       uniqCmt[year].append(comment)\n",
      "       uniqCmtSize[year] += len(comment)                 #unique cmt size\n",
      "       #uniqCmtCount[year] += 1                           #unique cmt \n",
      "\n",
      "    deltaYr[year] += 1\n",
      "\n",
      "  return totalCmt, uniqCmt, authors, cmtSize, uniqCmtSize, deltaYr\n"
     ],
     "language": "python",
     "metadata": {},
     "outputs": [],
     "prompt_number": 2
    },
    {
     "cell_type": "code",
     "collapsed": false,
     "input": [
      "\n",
      "  # plot the commit quality (Qc), commit/author and size/commit over time\n",
      "%matplotlib inline\n",
      "def plot_trend(year_range, Qc, description):\n",
      "  \n",
      "  # get ready to plot\n",
      "  ind = np.arange(len(year_range))\n",
      "  width = 0.8\n",
      "\n",
      "\n",
      "  # plot!\n",
      "  plot = plt.bar(ind, Qc, width, color='b')\n",
      "  plt.ylabel(description)\n",
      "  plt.title(description + ' over time')\n",
      "  plt.xticks(ind + width/2., year_range)\n",
      "  plt.show()\n",
      "    "
     ],
     "language": "python",
     "metadata": {},
     "outputs": [],
     "prompt_number": 3
    },
    {
     "cell_type": "code",
     "collapsed": false,
     "input": [
      "def decode(text):\n",
      "    return str(text).encode('string_escape')"
     ],
     "language": "python",
     "metadata": {},
     "outputs": [],
     "prompt_number": 4
    },
    {
     "cell_type": "code",
     "collapsed": false,
     "input": [
      "if __name__ == '__main__':\n",
      "\n",
      "  # Get list of files\n",
      "  files = open('list_git', 'r').readlines()\n",
      "  counter = 0\n",
      "  for f in files:\n",
      "    f = f.strip()\n",
      "    name = f\n",
      "    contents = open(f).read()\n",
      "\n",
      "    totalCmt, uniqCmt, authors, cmtSize, uniqCmtSize, deltaYr  = parse(contents, name)\n",
      "    "
     ],
     "language": "python",
     "metadata": {},
     "outputs": [],
     "prompt_number": 5
    },
    {
     "cell_type": "code",
     "collapsed": false,
     "input": [
      "    for key in sorted(uniqCmt.keys()):\n",
      "        if len(totalCmt[key]) == 0:\n",
      "           totalCmt[key].append('DivideByZeroCheck')\n",
      "        if len(uniqCmt[key]) == 0:\n",
      "           uniqCmt[key].append('DivideByZeroCheck')\n",
      "        if len(authors[key]) == 0:\n",
      "           authors[key].append('DivideByZeroCheck')\n",
      "    print \"\\nFor file : \", name        \n",
      "    print \"\\n Year   #nTC            #nUC       #Au          cmtSize    uniqCmtSize      delta\"\n",
      "    \n",
      "    for key in sorted(uniqCmt.keys()):\n",
      "        print key, \": \", len(totalCmt[key]), \n",
      "        print \"          \", len(uniqCmt[key]),\n",
      "        print \"         \", len(authors[key]),\n",
      "        print \"         \", cmtSize[key], \n",
      "        print \"      \", uniqCmtSize[key], \n",
      "        print \"          \", deltaYr[key]\n",
      "#    print \"totalCmt: \", collections.OrderedDict(sorted(totalCmt.items()))\n",
      "#    print \"uniqCmtCount: \", collections.OrderedDict(sorted(uniqCmtCount.items()))\n",
      "#    print \"authNum: \", collections.OrderedDict(sorted(authNum.items()))\n",
      "#    print \"uniqCmtSize: \", collections.OrderedDict(sorted(uniqCmtSize.items()))\n",
      "#    print \"cmtSize: \", collections.OrderedDict(sorted(cmtSize.items()))\n",
      "#    print \"deltaYr: \", collections.OrderedDict(sorted(deltaYr.items()))"
     ],
     "language": "python",
     "metadata": {},
     "outputs": [
      {
       "output_type": "stream",
       "stream": "stdout",
       "text": [
        "\n",
        "For file :  loc.open-mpi.git\n",
        "\n",
        " Year   #nTC            #nUC       #Au          cmtSize    uniqCmtSize      delta\n",
        "2003 :  18            15           4           5115        637            163\n",
        "2004 :  3373            3259           23           2801353        284886            24714\n",
        "2005 :  3036            2965           19           2750812        322776            23335\n",
        "2006 :  2202            2172           33           1618648        253593            10893\n",
        "2007 :  1861            1822           40           1053542        196671            8128\n",
        "2008 :  1785            1763           39           1341385        173199            10463\n",
        "2009 :  1507            1481           32           1983591        155881            8523\n",
        "2010 :  1170            1150           30           1286872        112615            7457\n",
        "2011 :  958            944           31           794302        88241            5637\n",
        "2012 :  1338            1307           25           851669        125746            8055\n",
        "2013 :  1369            1333           28           1140826        126815            9058\n",
        "2014 :  1887            1805           41           813996        141744            7539\n"
       ]
      }
     ],
     "prompt_number": 6
    },
    {
     "cell_type": "code",
     "collapsed": false,
     "input": [
      "    #Qc - quality of commits, cmt_Au - commit per author, size_cmt - size per commit\n",
      "    year_range = ['2003', '2004', '2005', '2006', '2007', '2008', '2009', '2010', '2011', '2012', '2013', '2014'];\n",
      "    Qc = []\n",
      "    cmt_Au = []\n",
      "    size_cmt = []\n",
      "    delta_cmt = []\n",
      "    usize_ucmt = []\n",
      "    print \"\\n Year   #Qc      uCmt/Au     size/Cmt    delta/tCmt \" \n",
      "    for i in range(len(year_range)):\n",
      "      key = year_range[i]\n",
      "      Qc.append(float(len(uniqCmt[key]))/float(len(totalCmt[key])))\n",
      "      cmt_Au.append(float(len(uniqCmt[key]))/float(len(authors[key])))\n",
      "      size_cmt.append(cmtSize[key]/float(len(totalCmt[key])))\n",
      "      usize_ucmt.append(uniqCmtSize[key]/float(len(uniqCmt[key])))\n",
      "      delta_cmt.append(deltaYr[key]/float(len(totalCmt[key])))\n",
      "      \n",
      "      print  key, \"  \", (\"%.2f\" % Qc[i]),\n",
      "      print \"    \", (\"%.2f\" % cmt_Au[i]),\n",
      "      print \"    \", (\"%.2f\" % size_cmt[i]),\n",
      "      print \"     \", (\"%.2f\" % delta_cmt[i])\n",
      "   "
     ],
     "language": "python",
     "metadata": {},
     "outputs": [
      {
       "output_type": "stream",
       "stream": "stdout",
       "text": [
        "\n",
        " Year   #Qc      uCmt/Au     size/Cmt    delta/tCmt \n",
        "2003    0.83      3.75      284.17       9.06\n",
        "2004    0.97      141.70      830.52       7.33\n",
        "2005    0.98      156.05      906.06       7.69\n",
        "2006    0.99      65.82      735.08       4.95\n",
        "2007    0.98      45.55      566.12       4.37\n",
        "2008    0.99      45.21      751.48       5.86\n",
        "2009    0.98      46.28      1316.25       5.66\n",
        "2010    0.98      38.33      1099.89       6.37\n",
        "2011    0.99      30.45      829.13       5.88\n",
        "2012    0.98      52.28      636.52       6.02\n",
        "2013    0.97      47.61      833.33       6.62\n",
        "2014    0.96      44.02      431.37       4.00\n"
       ]
      }
     ],
     "prompt_number": 7
    },
    {
     "cell_type": "code",
     "collapsed": false,
     "input": [],
     "language": "python",
     "metadata": {},
     "outputs": [],
     "prompt_number": 7
    },
    {
     "cell_type": "code",
     "collapsed": false,
     "input": [
      "    plot_trend(year_range, Qc, \"Qc\")   "
     ],
     "language": "python",
     "metadata": {},
     "outputs": [
      {
       "metadata": {},
       "output_type": "display_data",
       "png": "[encoded data removed]",
       "text": [
        "<matplotlib.figure.Figure at 0x7faf596a3990>"
       ]
      }
     ],
     "prompt_number": 8
    },
    {
     "cell_type": "code",
     "collapsed": false,
     "input": [
      "    plot_trend(year_range, cmt_Au, \"Cmt/Au\")   "
     ],
     "language": "python",
     "metadata": {},
     "outputs": [
      {
       "metadata": {},
       "output_type": "display_data",
       "png": "[encoded data removed]",
       "text": [
        "<matplotlib.figure.Figure at 0x7faf35bed410>"
       ]
      }
     ],
     "prompt_number": 9
    },
    {
     "cell_type": "code",
     "collapsed": false,
     "input": [
      "    plot_trend(year_range, size_cmt, \"size/Cmt\")   "
     ],
     "language": "python",
     "metadata": {},
     "outputs": [
      {
       "metadata": {},
       "output_type": "display_data",
       "png": "[encoded data removed]",
       "text": [
        "<matplotlib.figure.Figure at 0x7faf35bfda50>"
       ]
      }
     ],
     "prompt_number": 10
    },
    {
     "cell_type": "code",
     "collapsed": false,
     "input": [
      "    plot_trend(year_range, delta_cmt, \"delta/Cmt\") "
     ],
     "language": "python",
     "metadata": {},
     "outputs": [
      {
       "metadata": {},
       "output_type": "display_data",
       "png": "[encoded data removed]",
       "text": [
        "<matplotlib.figure.Figure at 0x7faf39e8c9d0>"
       ]
      }
     ],
     "prompt_number": 11
    },
    {
     "cell_type": "code",
     "collapsed": false,
     "input": [],
     "language": "python",
     "metadata": {},
     "outputs": []
    }
   ],
   "metadata": {}
  }
 ]
}