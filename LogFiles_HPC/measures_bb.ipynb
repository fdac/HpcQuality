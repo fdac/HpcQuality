{
 "metadata": {
  "name": "",
  "signature": "sha256:01ec1c405ff8091c5ec7749fd93aa5ab5161517d5f907f7c1bbe5ab3a51f37a0"
 },
 "nbformat": 3,
 "nbformat_minor": 0,
 "worksheets": [
  {
   "cells": [
    {
     "cell_type": "code",
     "collapsed": false,
     "input": [
      "import re, json, pymongo\n",
      "import gzip, sys, os, shutil, pickle, collections\n",
      "from operator import itemgetter, attrgetter\n",
      "from collections import Counter\n",
      "\n",
      "def parse(text, name):\n",
      "  size = 0\n",
      "  data = {}\n",
      "  data['name'] = decode(name)\n",
      "  data['commits'] = []\n",
      "  if text == '':\n",
      "    return (0, {}, {})\n",
      "  last_revision = ''\n",
      "  authors = {}\n",
      "  delta = 0\n",
      "  files = {}\n",
      "  text = text .replace('\\r', '')\n",
      "  revs = {}\n",
      "  cmtSize = {'2007':0, '2008':0, '2009':0, '2010':0, '2011':0,'2012':0, '2013':0, '2014':0 }\n",
      "  uniqCmt  = {'2007':[], '2008':[], '2009':[] , '2010':[] , '2011':[] ,'2012':[] , '2013':[], '2014':[] }\n",
      "  uniqCmtSize = {'2007':0, '2008':0, '2009':0, '2010':0, '2011':0,'2012':0, '2013':0, '2014':0 }\n",
      "  authors  = {'2007':[], '2008':[], '2009':[] , '2010':[] , '2011':[] ,'2012':[] , '2013':[], '2014':[] }\n",
      "  deltaYr  = {'2007':0, '2008':0, '2009':0, '2010':0, '2011':0,'2012':0, '2013':0, '2014':0 }\n",
      "  totalCmt = {'2007':[], '2008':[], '2009':[] , '2010':[] , '2011':[] ,'2012':[] , '2013':[], '2014':[] }\n",
      "  preyear = 0\n",
      "\n",
      " # Determine if it uses Git\n",
      "  if text.find('ENDOFCOMMENT') > 0 and text[:text.find(';')].find(':') > 0:\n",
      "    # It's Mercurial\n",
      "    line = text.strip().split('ENDOFCOMMENT\\n') #get all the commits\n",
      "\n",
      "    # get the info of each commit\n",
      "    for cmt in line:\n",
      "      splits = cmt.split(';')\n",
      "      # There may be semicolons in the comments too\n",
      "      props = splits[:7]\n",
      "      year = props[4][:4]                 # get year as every list will be year driven\n",
      "\n",
      "      revision = props[0]                                  #revision number\n",
      "      valrev   = totalCmt[year]\n",
      "\n",
      "      if revision not in valrev:                           #commit each year\n",
      "         totalCmt[year].append(revision)\n",
      "\n",
      "      author  = decode(props[5])                           #name of author\n",
      "      valauth = authors[year]\n",
      "      if author not in valauth:\n",
      "         #authNum[year] += 1 \n",
      "         authors[year].append(author)\n",
      "\n",
      "      comment        = ';'.join(splits[7:])\n",
      "      cmtSize[year] += len(comment)                        #comment Size\n",
      "      valcmt  = uniqCmt[year]\n",
      "      if comment not in valcmt:\n",
      "         uniqCmt[year].append(comment)\n",
      "         uniqCmtSize[year] += len(comment)                 #unique cmt size\n",
      "         #uniqCmtCount[year] += 1                           #unique cmt \n",
      "\n",
      "      deltaYr[year] += 1\n",
      "\n",
      "  return totalCmt, uniqCmt, authors, cmtSize, uniqCmtSize, deltaYr\n",
      "                "
     ],
     "language": "python",
     "metadata": {},
     "outputs": [],
     "prompt_number": 1
    },
    {
     "cell_type": "code",
     "collapsed": false,
     "input": [
      "def decode(text):\n",
      "    return str(text).encode('string_escape')"
     ],
     "language": "python",
     "metadata": {},
     "outputs": [],
     "prompt_number": 2
    },
    {
     "cell_type": "code",
     "collapsed": false,
     "input": [
      "if __name__ == '__main__':\n",
      "\n",
      "  # Get list of files\n",
      "  files = open('list_bb', 'r').readlines()\n",
      "  counter = 0\n",
      "  for f in files:\n",
      "    f = f.strip()\n",
      "    name = f\n",
      "    contents = open(f).read()\n",
      "\n",
      "    totalCmt, uniqCmt, authors, cmtSize, uniqCmtSize, deltaYr  = parse(contents, name)\n",
      "    "
     ],
     "language": "python",
     "metadata": {},
     "outputs": [],
     "prompt_number": 3
    },
    {
     "cell_type": "code",
     "collapsed": false,
     "input": [
      "    for key in sorted(uniqCmt.keys()):\n",
      "        if len(totalCmt[key]) == 0:\n",
      "           totalCmt[key].append('DivideByZeroCheck')\n",
      "        if len(uniqCmt[key]) == 0:\n",
      "           uniqCmt[key].append('DivideByZeroCheck')\n",
      "        if len(authors[key]) == 0:\n",
      "           authors[key].append('DivideByZeroCheck')\n",
      "            \n",
      "    print \"\\n Year   #nTC            #nUC       #Au          cmtSize    unqCmtSize      delta\"\n",
      "    \n",
      "    for key in sorted(uniqCmt.keys()):\n",
      "        print key, \": \", len(totalCmt[key]), \"          \", len(uniqCmt[key]), \"         \", len(authors[key]), \"         \", cmtSize[key], \"      \", uniqCmtSize[key], \"          \", deltaYr[key]\n",
      "#    print \"totalCmt: \", collections.OrderedDict(sorted(totalCmt.items()))\n",
      "#    print \"uniqCmtCount: \", collections.OrderedDict(sorted(uniqCmtCount.items()))\n",
      "#    print \"authNum: \", collections.OrderedDict(sorted(authNum.items()))\n",
      "#    print \"uniqCmtSize: \", collections.OrderedDict(sorted(uniqCmtSize.items()))\n",
      "#    print \"cmtSize: \", collections.OrderedDict(sorted(cmtSize.items()))\n",
      "#    print \"deltaYr: \", collections.OrderedDict(sorted(deltaYr.items()))"
     ],
     "language": "python",
     "metadata": {},
     "outputs": [
      {
       "output_type": "stream",
       "stream": "stdout",
       "text": [
        "\n",
        " Year   #nTC            #nUC       #Au          cmtSize    unqCmtSize      delta\n",
        "2007 :  1            1           1           0        0            0\n",
        "2008 :  1            1           1           0        0            0\n",
        "2009 :  290            290           7           74941        23468            670\n",
        "2010 :  2020            1943           11           557328        150529            5875\n",
        "2011 :  1114            1084           8           257376        69493            2656\n",
        "2012 :  1969            1834           20           523731        113536            6251\n",
        "2013 :  1688            1547           12           564166        108858            6274\n",
        "2014 :  749            694           10           227980        48666            4237\n"
       ]
      }
     ],
     "prompt_number": 19
    },
    {
     "cell_type": "code",
     "collapsed": false,
     "input": [
      "  print \"\\n Year   #Qc        cmt/Au    size/cmt\"\n",
      "  "
     ],
     "language": "python",
     "metadata": {},
     "outputs": [
      {
       "output_type": "stream",
       "stream": "stdout",
       "text": [
        "\n",
        " Year   #Qc        cmt/Au    size/cmt\n"
       ]
      }
     ],
     "prompt_number": 24
    },
    {
     "cell_type": "code",
     "collapsed": false,
     "input": [
      "  \n",
      "  for key in sorted(uniqCmt.keys()):\n",
      "    print key, \": \", float(len(uniqCmt[key]))/float(len(totalCmt[key])), \"          \", float(len(uniqCmt[key]))/float(len(authors[key]))"
     ],
     "language": "python",
     "metadata": {},
     "outputs": [
      {
       "output_type": "stream",
       "stream": "stdout",
       "text": [
        "2007 :  1.0            1.0\n",
        "2008 :  1.0            1.0\n",
        "2009 :  1.0            41.4285714286\n",
        "2010 :  0.961881188119            176.636363636\n",
        "2011 :  0.973070017953            135.5\n",
        "2012 :  0.931437277806            91.7\n",
        "2013 :  0.916469194313            128.916666667\n",
        "2014 :  0.926568758344            69.4\n"
       ]
      }
     ],
     "prompt_number": 25
    },
    {
     "cell_type": "code",
     "collapsed": false,
     "input": [],
     "language": "python",
     "metadata": {},
     "outputs": []
    }
   ],
   "metadata": {}
  }
 ]
}